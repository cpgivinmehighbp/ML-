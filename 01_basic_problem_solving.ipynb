{
 "cells": [
  {
   "cell_type": "markdown",
   "id": "5c2895e6-aa76-4dae-956c-7c6f67f3292b",
   "metadata": {},
   "source": [
    "# Python Problem solving\n",
    "1) Addition of two numbers\n",
    "2) check if odd or even\n",
    "3) Check if number is prime or not\n",
    "4) Largest of 4 numbers\n",
    "5) Factorial of a Number\n",
    "6) Reversing a number\n",
    "7) Check if string is palindrine or not\n",
    "8) Find sum of digits of number\n",
    "9) Simple calculator\n",
    "10) Print pattern"
   ]
  },
  {
   "cell_type": "code",
   "execution_count": 5,
   "id": "7e9d2ed3-d001-4edd-8d49-3ceb29fd9bc9",
   "metadata": {},
   "outputs": [
    {
     "data": {
      "text/plain": [
       "64"
      ]
     },
     "execution_count": 5,
     "metadata": {},
     "output_type": "execute_result"
    }
   ],
   "source": [
    "def addition(a,b):\n",
    "    return a+b\n",
    "\n",
    "addition(30,34)"
   ]
  },
  {
   "cell_type": "code",
   "execution_count": 2,
   "id": "0c29685e-1780-40e4-9f06-d49c4cfef5a5",
   "metadata": {},
   "outputs": [
    {
     "data": {
      "text/plain": [
       "'Odd'"
      ]
     },
     "execution_count": 2,
     "metadata": {},
     "output_type": "execute_result"
    }
   ],
   "source": [
    "def oddeve(a):\n",
    "    if a%2==0:\n",
    "        return \"Even\"\n",
    "    return \"Odd\"\n",
    "\n",
    "oddeve(31)"
   ]
  },
  {
   "cell_type": "code",
   "execution_count": 3,
   "id": "93834cc4-c586-4a07-98ef-c2258e4844ff",
   "metadata": {},
   "outputs": [
    {
     "data": {
      "text/plain": [
       "'Even'"
      ]
     },
     "execution_count": 3,
     "metadata": {},
     "output_type": "execute_result"
    }
   ],
   "source": [
    "oddeve(40)"
   ]
  },
  {
   "cell_type": "code",
   "execution_count": null,
   "id": "188e05a5-4b58-4aec-ba7f-fc9df13f1c89",
   "metadata": {},
   "outputs": [
    {
     "data": {
      "text/plain": [
       "False"
      ]
     },
     "execution_count": 46,
     "metadata": {},
     "output_type": "execute_result"
    }
   ],
   "source": [
    "def isprime(a):\n",
    "    if a<=2:\n",
    "        return True\n",
    "    for i in range(2,a//2+1):\n",
    "        if a%i==0:\n",
    "            return False\n",
    "    return True\n",
    "\n",
    "isprime(497)"
   ]
  },
  {
   "cell_type": "code",
   "execution_count": null,
   "id": "7669dc56-76ad-4b62-b4bf-7ed363d9b35e",
   "metadata": {},
   "outputs": [
    {
     "data": {
      "text/plain": [
       "True"
      ]
     },
     "execution_count": 48,
     "metadata": {},
     "output_type": "execute_result"
    }
   ],
   "source": [
    "primecheck(23)"
   ]
  },
  {
   "cell_type": "code",
   "execution_count": 1,
   "id": "85fe8c89-2e47-4230-b5ba-befe6af6e9c5",
   "metadata": {},
   "outputs": [
    {
     "data": {
      "text/plain": [
       "169"
      ]
     },
     "execution_count": 1,
     "metadata": {},
     "output_type": "execute_result"
    }
   ],
   "source": [
    "def largestnum(a,b,c,d):\n",
    "    return max(a,b,c,d)\n",
    "\n",
    "largestnum(169,78,32,96)"
   ]
  },
  {
   "cell_type": "code",
   "execution_count": null,
   "id": "86b2723d-748c-4169-a8e9-bc44d4a18a5d",
   "metadata": {},
   "outputs": [
    {
     "data": {
      "text/plain": [
       "120"
      ]
     },
     "execution_count": 52,
     "metadata": {},
     "output_type": "execute_result"
    }
   ],
   "source": [
    "def factorial(a):\n",
    "    res=1\n",
    "    for i in range(1,a+1):\n",
    "        res*=i\n",
    "    return res\n",
    "\n",
    "factorial(5)"
   ]
  },
  {
   "cell_type": "code",
   "execution_count": 21,
   "id": "32aef2f2-4e46-4844-a97d-0c3d2393e903",
   "metadata": {},
   "outputs": [],
   "source": [
    "def reversed_num(n):\n",
    "    reversed_n=0\n",
    "    while n>0:\n",
    "        digit= n%10\n",
    "        reversed_n= reversed_n*10\n",
    "        n=n/10\n",
    "        return reversed_n\n",
    "    print(f\"Reversed number is: {reversed_num(123)}\")"
   ]
  },
  {
   "cell_type": "code",
   "execution_count": 6,
   "id": "e4cc395e-82c7-48be-b0d9-07a7fd811e39",
   "metadata": {},
   "outputs": [
    {
     "data": {
      "text/plain": [
       "True"
      ]
     },
     "execution_count": 6,
     "metadata": {},
     "output_type": "execute_result"
    }
   ],
   "source": [
    "def palindromecheck(val):\n",
    "    return val==val[::-1]\n",
    "\n",
    "palindromecheck(\"dad\")"
   ]
  },
  {
   "cell_type": "code",
   "execution_count": 7,
   "id": "12722f5f-51bb-482c-93d1-cbc2c6ce7b99",
   "metadata": {},
   "outputs": [
    {
     "data": {
      "text/plain": [
       "False"
      ]
     },
     "execution_count": 7,
     "metadata": {},
     "output_type": "execute_result"
    }
   ],
   "source": [
    "palindromecheck(\"babe\")"
   ]
  },
  {
   "cell_type": "code",
   "execution_count": 8,
   "id": "054064ef-0e8e-45fd-a480-961031aacf11",
   "metadata": {},
   "outputs": [
    {
     "data": {
      "text/plain": [
       "9"
      ]
     },
     "execution_count": 8,
     "metadata": {},
     "output_type": "execute_result"
    }
   ],
   "source": [
    "def sumofdigits(a):\n",
    "    res=0\n",
    "    while a !=0:\n",
    "        val=a%10\n",
    "        a=a//10\n",
    "        res=res+val\n",
    "    return res\n",
    "\n",
    "sumofdigits(324)"
   ]
  },
  {
   "cell_type": "code",
   "execution_count": 26,
   "id": "ef2d9eb9-abb2-4fc7-ae22-50c1bea2d7c1",
   "metadata": {},
   "outputs": [
    {
     "name": "stdout",
     "output_type": "stream",
     "text": [
      "1- Add\n",
      "2- Sub\n",
      "3- Mult\n",
      "4- Div\n"
     ]
    },
    {
     "data": {
      "text/plain": [
       "64"
      ]
     },
     "execution_count": 26,
     "metadata": {},
     "output_type": "execute_result"
    }
   ],
   "source": [
    "# Calculator\n",
    "\n",
    "def calculator(a,b,op):\n",
    "    if op==1:\n",
    "        return a+b\n",
    "    elif op==2:\n",
    "        return a+b\n",
    "    if op==3:\n",
    "        return a*b\n",
    "    if op==4:\n",
    "        return a/b\n",
    "    else:\n",
    "        return \"Invalid operation\"\n",
    "\n",
    "print(\"1- Add\")\n",
    "print(\"2- Sub\")\n",
    "print(\"3- Mult\")\n",
    "print(\"4- Div\")\n",
    "a=int(input(\"First Number:\"))\n",
    "b=int(input(\"Second Number:\"))\n",
    "op=int(input(\"Operation\"))\n",
    "\n",
    "calculator(a,b,op)"
   ]
  },
  {
   "cell_type": "code",
   "execution_count": 84,
   "id": "ad690f3f-9fbb-4f44-9a14-d1920a6f314a",
   "metadata": {},
   "outputs": [
    {
     "name": "stdout",
     "output_type": "stream",
     "text": [
      "9\n",
      "3\n",
      "18\n",
      "2.0\n"
     ]
    }
   ],
   "source": [
    "print(calculator(6,3,1))\n",
    "print(calculator(6,3,2))\n",
    "print(calculator(6,3,3))\n",
    "print(calculator(6,3,4))"
   ]
  },
  {
   "cell_type": "code",
   "execution_count": 9,
   "id": "25d27aed-7663-48b7-ad94-d24e23f647dc",
   "metadata": {},
   "outputs": [
    {
     "name": "stdout",
     "output_type": "stream",
     "text": [
      "\n",
      "*\n",
      "**\n",
      "***\n",
      "****\n",
      "*****\n"
     ]
    }
   ],
   "source": [
    "def pattern(n):\n",
    "    for i in range(n+1):\n",
    "        print(\"*\"*i)\n",
    "\n",
    "pattern(5)"
   ]
  },
  {
   "cell_type": "markdown",
   "id": "da19b8fd-bc34-4b8d-86ab-c7967dbf28b3",
   "metadata": {},
   "source": [
    "# All done!"
   ]
  }
 ],
 "metadata": {
  "kernelspec": {
   "display_name": "base",
   "language": "python",
   "name": "python3"
  },
  "language_info": {
   "codemirror_mode": {
    "name": "ipython",
    "version": 3
   },
   "file_extension": ".py",
   "mimetype": "text/x-python",
   "name": "python",
   "nbconvert_exporter": "python",
   "pygments_lexer": "ipython3",
   "version": "3.11.5"
  }
 },
 "nbformat": 4,
 "nbformat_minor": 5
}
